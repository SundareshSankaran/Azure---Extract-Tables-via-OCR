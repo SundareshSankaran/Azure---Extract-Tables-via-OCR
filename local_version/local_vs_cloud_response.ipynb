{
 "cells": [
  {
   "cell_type": "code",
   "execution_count": 2,
   "metadata": {},
   "outputs": [
    {
     "data": {
      "text/plain": [
       "True"
      ]
     },
     "execution_count": 2,
     "metadata": {},
     "output_type": "execute_result"
    }
   ],
   "source": [
    "from azure.core.credentials import AzureKeyCredential\n",
    "from azure.ai.documentintelligence import DocumentIntelligenceClient\n",
    "from azure.ai.documentintelligence.models import DocumentAnalysisFeature\n",
    "from azure.ai.documentintelligence.models._models import AnalyzeResult\n",
    "\n",
    "import pandas as pd\n",
    "import numpy as np\n",
    "import functools\n",
    "import threading\n",
    "import json\n",
    "import io\n",
    "import re\n",
    "import os\n",
    "import uuid\n",
    "from datetime import datetime\n",
    "\n",
    "from dotenv import load_dotenv\n",
    "load_dotenv()"
   ]
  },
  {
   "cell_type": "code",
   "execution_count": 18,
   "metadata": {},
   "outputs": [],
   "source": [
    "key = os.environ.get('OCR_KEY')\n",
    "endpoint = os.environ.get('OCR_ENDPOINT')\n",
    "credential = AzureKeyCredential(key)\n",
    "document_intelligence_client = DocumentIntelligenceClient(endpoint, credential, api_version='2023-10-31-preview')\n",
    "doc_path ='data/handwritten-form.jpg'\n",
    "\n",
    "with open(doc_path, \"rb\") as f:\n",
    "    poller = document_intelligence_client.begin_analyze_document(\n",
    "        \"prebuilt-read\", \n",
    "        analyze_request=f, \n",
    "        content_type=\"application/octet-stream\", \n",
    "    )\n",
    "r_cloud = poller.result()"
   ]
  },
  {
   "cell_type": "code",
   "execution_count": 16,
   "metadata": {},
   "outputs": [],
   "source": [
    "import requests\n",
    "import json\n",
    "\n",
    "service_url = 'http://localhost:5000/'\n",
    "\n",
    "# Define the URL and file path\n",
    "url = f\"{service_url}formrecognizer/documentModels/prebuilt-read:syncAnalyze?api-version=2022-08-31\"\n",
    "file_path = \"data/handwritten-form.jpg\"\n",
    "\n",
    "# Define headers\n",
    "headers = {\n",
    "    'accept': '*/*',\n",
    "    'Content-Type': 'application/octet-stream',\n",
    "}\n",
    "\n",
    "# Open the file and send the POST request\n",
    "with open(file_path, 'rb') as file:\n",
    "    response = requests.post(url, headers=headers, data=file)\n",
    "\n",
    "r_local = json.loads(response.text)\n",
    "r_local = r_local['analyzeResult']"
   ]
  },
  {
   "cell_type": "code",
   "execution_count": 19,
   "metadata": {},
   "outputs": [
    {
     "name": "stdout",
     "output_type": "stream",
     "text": [
      "cloud keys: dict_keys(['apiVersion', 'modelId', 'stringIndexType', 'content', 'pages', 'paragraphs', 'styles', 'contentFormat'])\n",
      "local keys: dict_keys(['apiVersion', 'modelId', 'stringIndexType', 'content', 'pages', 'paragraphs', 'styles', 'languages'])\n"
     ]
    }
   ],
   "source": [
    "print(f'cloud keys: {r_cloud.keys()}')\n",
    "print(f'local keys: {r_local.keys()}')"
   ]
  },
  {
   "cell_type": "code",
   "execution_count": 31,
   "metadata": {},
   "outputs": [
    {
     "name": "stdout",
     "output_type": "stream",
     "text": [
      "cloud keys: dict_keys(['pageNumber', 'angle', 'width', 'height', 'unit', 'words', 'lines', 'spans'])\n",
      "local keys: dict_keys(['pageNumber', 'angle', 'width', 'height', 'unit', 'words', 'lines', 'spans', 'kind'])\n",
      "cloud keys: [{'confidence': 1, 'spans': [{'offset': 34, 'length': 6}, {'offset': 56, 'length': 20}, {'offset': 303, 'length': 32}, {'offset': 339, 'length': 2}, {'offset': 346, 'length': 3}, {'offset': 354, 'length': 3}, {'offset': 374, 'length': 5}, {'offset': 387, 'length': 6}, {'offset': 399, 'length': 4}, {'offset': 410, 'length': 5}, {'offset': 423, 'length': 6}, {'offset': 433, 'length': 2}, {'offset': 441, 'length': 4}, {'offset': 452, 'length': 5}, {'offset': 465, 'length': 6}, {'offset': 475, 'length': 2}, {'offset': 482, 'length': 3}, {'offset': 492, 'length': 5}, {'offset': 505, 'length': 9}, {'offset': 519, 'length': 3}, {'offset': 543, 'length': 6}, {'offset': 553, 'length': 2}, {'offset': 560, 'length': 3}, {'offset': 569, 'length': 4}, {'offset': 580, 'length': 5}, {'offset': 613, 'length': 28}, {'offset': 669, 'length': 26}, {'offset': 1075, 'length': 329}], 'isHandwritten': True}, {'confidence': 0.95, 'spans': [{'offset': 363, 'length': 4}], 'isHandwritten': True}, {'confidence': 0.8, 'spans': [{'offset': 528, 'length': 4}], 'isHandwritten': True}]\n",
      "local keys: [{'confidence': 1, 'spans': [{'offset': 34, 'length': 6}, {'offset': 56, 'length': 20}, {'offset': 303, 'length': 10}, {'offset': 317, 'length': 2}, {'offset': 329, 'length': 21}, {'offset': 364, 'length': 10}, {'offset': 380, 'length': 5}, {'offset': 395, 'length': 4}, {'offset': 406, 'length': 5}, {'offset': 419, 'length': 6}, {'offset': 429, 'length': 3}, {'offset': 444, 'length': 5}, {'offset': 457, 'length': 6}, {'offset': 467, 'length': 2}, {'offset': 474, 'length': 11}, {'offset': 492, 'length': 5}, {'offset': 505, 'length': 6}, {'offset': 519, 'length': 3}, {'offset': 533, 'length': 2}, {'offset': 543, 'length': 6}, {'offset': 553, 'length': 2}, {'offset': 565, 'length': 3}, {'offset': 575, 'length': 10}, {'offset': 613, 'length': 46}, {'offset': 687, 'length': 40}, {'offset': 1107, 'length': 328}], 'isHandwritten': True}, {'confidence': 0.95, 'spans': [{'offset': 375, 'length': 4}, {'offset': 528, 'length': 4}], 'isHandwritten': True}]\n"
     ]
    }
   ],
   "source": [
    "print(f'cloud keys: {r_cloud[\"pages\"][0].keys()}')\n",
    "print(f'local keys: {r_local[\"pages\"][0].keys()}')\n",
    "\n",
    "print(f'cloud keys: {r_cloud[\"styles\"]}')\n",
    "print(f'local keys: {r_local[\"styles\"]}')"
   ]
  },
  {
   "cell_type": "code",
   "execution_count": 21,
   "metadata": {},
   "outputs": [
    {
     "name": "stdout",
     "output_type": "stream",
     "text": [
      "cloud keys: dict_keys(['content', 'polygon', 'confidence', 'span'])\n",
      "local keys: dict_keys(['content', 'polygon', 'confidence', 'span'])\n"
     ]
    }
   ],
   "source": [
    "print(f'cloud keys: {r_cloud[\"pages\"][0][\"words\"][0].keys()}')\n",
    "print(f'local keys: {r_local[\"pages\"][0][\"words\"][0].keys()}')"
   ]
  },
  {
   "cell_type": "code",
   "execution_count": 27,
   "metadata": {},
   "outputs": [
    {
     "name": "stdout",
     "output_type": "stream",
     "text": [
      "cloud keys: [187, 15, 313, 15, 313, 34, 187, 33]\n",
      "local keys: [186, 13, 315, 14, 314, 37, 186, 35]\n",
      "cloud keys: HANDWRITING\n",
      "local keys: HANDWRITING\n",
      "cloud keys: 0.993\n",
      "local keys: 0.991\n",
      "cloud keys: {'offset': 0, 'length': 11}\n",
      "local keys: {'offset': 0, 'length': 11}\n"
     ]
    }
   ],
   "source": [
    "print(f'cloud keys: {r_cloud[\"pages\"][0][\"words\"][0][\"polygon\"]}')\n",
    "print(f'local keys: {r_local[\"pages\"][0][\"words\"][0][\"polygon\"]}')\n",
    "\n",
    "print(f'cloud keys: {r_cloud[\"pages\"][0][\"words\"][0][\"content\"]}')\n",
    "print(f'local keys: {r_local[\"pages\"][0][\"words\"][0][\"content\"]}')\n",
    "\n",
    "print(f'cloud keys: {r_cloud[\"pages\"][0][\"words\"][0][\"confidence\"]}')\n",
    "print(f'local keys: {r_local[\"pages\"][0][\"words\"][0][\"confidence\"]}')\n",
    "\n",
    "print(f'cloud keys: {r_cloud[\"pages\"][0][\"words\"][0][\"span\"]}')\n",
    "print(f'local keys: {r_local[\"pages\"][0][\"words\"][0][\"span\"]}')"
   ]
  },
  {
   "cell_type": "code",
   "execution_count": null,
   "metadata": {},
   "outputs": [],
   "source": []
  }
 ],
 "metadata": {
  "kernelspec": {
   "display_name": ".venv",
   "language": "python",
   "name": "python3"
  },
  "language_info": {
   "codemirror_mode": {
    "name": "ipython",
    "version": 3
   },
   "file_extension": ".py",
   "mimetype": "text/x-python",
   "name": "python",
   "nbconvert_exporter": "python",
   "pygments_lexer": "ipython3",
   "version": "3.10.6"
  }
 },
 "nbformat": 4,
 "nbformat_minor": 2
}
